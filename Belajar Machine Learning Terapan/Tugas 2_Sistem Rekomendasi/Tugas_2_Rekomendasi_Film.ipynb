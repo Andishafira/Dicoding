{
  "nbformat": 4,
  "nbformat_minor": 0,
  "metadata": {
    "colab": {
      "provenance": [],
      "collapsed_sections": [
        "n0677GGwBZhf",
        "0FasEbesBfps",
        "tSlhMPOOuLIi",
        "6ZQ8UGDiuYu8",
        "xaL90Qo3ucFD",
        "s6INXUVruoO4",
        "wGXb4TASCD5K"
      ]
    },
    "kernelspec": {
      "name": "python3",
      "display_name": "Python 3"
    },
    "language_info": {
      "name": "python"
    }
  },
  "cells": [
    {
      "cell_type": "markdown",
      "source": [
        "# **Project Sistem Rekomendasi**"
      ],
      "metadata": {
        "id": "n0677GGwBZhf"
      }
    },
    {
      "cell_type": "markdown",
      "source": [
        "## Tujuan dan Manfaat Proyek"
      ],
      "metadata": {
        "id": "0FasEbesBfps"
      }
    },
    {
      "cell_type": "markdown",
      "source": [
        "**Tujuan utama** dari proyek ini adalah untuk membangun sebuah sistem rekomendasi film yang dapat meningkatkan keterlibatan (engagement) pengguna dan memperpanjang durasi mereka di platform. Kami ingin menyediakan rekomendasi yang sangat personal dan akurat, yang terasa seperti kurasi dari seorang ahli film.\n",
        "\n",
        "**Manfaat langsung** dari pencapaian tujuan ini adalah:\n",
        "\n",
        "* Peningkatan Retensi Pengguna: Pengguna yang merasa platform memahami selera mereka cenderung akan kembali lagi dan tidak beralih ke layanan lain.\n",
        "\n",
        "* Optimalisasi Konten: Wawasan dari model dapat membantu tim konten dalam mengambil keputusan yang didukung data tentang film apa yang harus ditambahkan ke katalog.\n",
        "\n",
        "* Peluang Monetisasi: Durasi tontonan yang lebih lama dan tingkat kunjungan yang lebih sering membuka peluang untuk pendapatan dari iklan atau peningkatan langganan.\n",
        "\n"
      ],
      "metadata": {
        "id": "sSbssFfoBkrL"
      }
    },
    {
      "cell_type": "markdown",
      "source": [
        "#Import Data"
      ],
      "metadata": {
        "id": "tSlhMPOOuLIi"
      }
    },
    {
      "cell_type": "code",
      "source": [
        "# Import pustaka yang diperlukan\n",
        "import pandas as pd\n",
        "from sklearn.feature_extraction.text import TfidfVectorizer\n",
        "from sklearn.metrics.pairwise import cosine_similarity\n",
        "import re\n",
        "\n",
        "# Import pustaka yang diperlukan\n",
        "import pandas as pd\n",
        "from fastai.collab import *\n",
        "from fastai.tabular.all import *\n",
        "from pathlib import Path"
      ],
      "metadata": {
        "id": "dQEJ4NqN2sVc"
      },
      "execution_count": null,
      "outputs": []
    },
    {
      "cell_type": "code",
      "execution_count": null,
      "metadata": {
        "colab": {
          "base_uri": "https://localhost:8080/"
        },
        "id": "t45gSl-0L1m5",
        "outputId": "29259f7f-105f-4781-e35d-99da611ae730"
      },
      "outputs": [
        {
          "output_type": "stream",
          "name": "stdout",
          "text": [
            "Cloning into 'Dicoding'...\n",
            "remote: Enumerating objects: 104, done.\u001b[K\n",
            "remote: Counting objects: 100% (73/73), done.\u001b[K\n",
            "remote: Compressing objects: 100% (51/51), done.\u001b[K\n",
            "remote: Total 104 (delta 24), reused 38 (delta 8), pack-reused 31 (from 2)\u001b[K\n",
            "Receiving objects: 100% (104/104), 158.92 MiB | 27.20 MiB/s, done.\n",
            "Resolving deltas: 100% (27/27), done.\n",
            "Updating files: 100% (25/25), done.\n"
          ]
        }
      ],
      "source": [
        "!git clone https://github.com/Andishafira/Dicoding.git"
      ]
    },
    {
      "cell_type": "code",
      "source": [
        "import pandas as pd\n",
        "\n",
        "df_movie_path = \"/content/Dicoding/Belajar Machine Learning Terapan/Tugas 2_Sistem Rekomendasi/dataset/movies.csv\"\n",
        "df_ratings_path = \"/content/Dicoding/Belajar Machine Learning Terapan/Tugas 2_Sistem Rekomendasi/dataset/ratings.csv\"\n",
        "df_tags_path = \"/content/Dicoding/Belajar Machine Learning Terapan/Tugas 2_Sistem Rekomendasi/dataset/tags.csv\"\n",
        "df_links_path = \"/content/Dicoding/Belajar Machine Learning Terapan/Tugas 2_Sistem Rekomendasi/dataset/links.csv\"\n",
        "\n",
        "df_movie = pd.read_csv(df_movie_path)\n",
        "df_ratings = pd.read_csv(df_ratings_path)\n",
        "df_tags = pd.read_csv(df_tags_path)\n",
        "df_links = pd.read_csv(df_links_path)"
      ],
      "metadata": {
        "id": "d7CV3LifUS7o"
      },
      "execution_count": null,
      "outputs": []
    },
    {
      "cell_type": "code",
      "source": [
        "# Menampilkan 5 baris pertama dari movies_df\n",
        "print(\"--- 5 baris pertama dari movies.csv ---\")\n",
        "print(df_movie.head())\n",
        "\n",
        "# Menampilkan informasi kolom dan tipe data dari movies_df\n",
        "print(\"\\n--- Informasi dataframe movies_df ---\")\n",
        "print(df_movie.info())\n",
        "\n",
        "# Menampilkan 5 baris pertama dari ratings_df\n",
        "print(\"\\n--- 5 baris pertama dari ratings.csv ---\")\n",
        "print(df_ratings.head())\n",
        "\n",
        "# Menampilkan informasi kolom dan tipe data dari ratings_df\n",
        "print(\"\\n--- Informasi dataframe ratings_df ---\")\n",
        "print(df_ratings.info())\n",
        "\n",
        "# Memeriksa jumlah nilai unik pada kolom 'genres'\n",
        "print(\"\\n--- Jumlah genre unik ---\")\n",
        "print(len(df_movie['genres'].unique()))\n",
        "\n",
        "# Mengambil 10 genre teratas\n",
        "print(\"\\n--- 10 genre teratas ---\")\n",
        "# Kita akan memisahkan genre terlebih dahulu untuk mendapatkan gambaran yang lebih akurat\n",
        "all_genres = df_movie['genres'].str.split('|', expand=True).stack().reset_index(level=1, drop=True)\n",
        "print(all_genres.value_counts().head(10))"
      ],
      "metadata": {
        "colab": {
          "base_uri": "https://localhost:8080/"
        },
        "id": "S46YepJaU6UL",
        "outputId": "025fdd14-bbe9-4c42-9828-041418467ae0"
      },
      "execution_count": null,
      "outputs": [
        {
          "output_type": "stream",
          "name": "stdout",
          "text": [
            "--- 5 baris pertama dari movies.csv ---\n",
            "   movieId                               title  \\\n",
            "0        1                    Toy Story (1995)   \n",
            "1        2                      Jumanji (1995)   \n",
            "2        3             Grumpier Old Men (1995)   \n",
            "3        4            Waiting to Exhale (1995)   \n",
            "4        5  Father of the Bride Part II (1995)   \n",
            "\n",
            "                                        genres  \n",
            "0  Adventure|Animation|Children|Comedy|Fantasy  \n",
            "1                   Adventure|Children|Fantasy  \n",
            "2                               Comedy|Romance  \n",
            "3                         Comedy|Drama|Romance  \n",
            "4                                       Comedy  \n",
            "\n",
            "--- Informasi dataframe movies_df ---\n",
            "<class 'pandas.core.frame.DataFrame'>\n",
            "RangeIndex: 9742 entries, 0 to 9741\n",
            "Data columns (total 3 columns):\n",
            " #   Column   Non-Null Count  Dtype \n",
            "---  ------   --------------  ----- \n",
            " 0   movieId  9742 non-null   int64 \n",
            " 1   title    9742 non-null   object\n",
            " 2   genres   9742 non-null   object\n",
            "dtypes: int64(1), object(2)\n",
            "memory usage: 228.5+ KB\n",
            "None\n",
            "\n",
            "--- 5 baris pertama dari ratings.csv ---\n",
            "   userId  movieId  rating  timestamp\n",
            "0       1        1     4.0  964982703\n",
            "1       1        3     4.0  964981247\n",
            "2       1        6     4.0  964982224\n",
            "3       1       47     5.0  964983815\n",
            "4       1       50     5.0  964982931\n",
            "\n",
            "--- Informasi dataframe ratings_df ---\n",
            "<class 'pandas.core.frame.DataFrame'>\n",
            "RangeIndex: 100836 entries, 0 to 100835\n",
            "Data columns (total 4 columns):\n",
            " #   Column     Non-Null Count   Dtype  \n",
            "---  ------     --------------   -----  \n",
            " 0   userId     100836 non-null  int64  \n",
            " 1   movieId    100836 non-null  int64  \n",
            " 2   rating     100836 non-null  float64\n",
            " 3   timestamp  100836 non-null  int64  \n",
            "dtypes: float64(1), int64(3)\n",
            "memory usage: 3.1 MB\n",
            "None\n",
            "\n",
            "--- Jumlah genre unik ---\n",
            "951\n",
            "\n",
            "--- 10 genre teratas ---\n",
            "Drama        4361\n",
            "Comedy       3756\n",
            "Thriller     1894\n",
            "Action       1828\n",
            "Romance      1596\n",
            "Adventure    1263\n",
            "Crime        1199\n",
            "Sci-Fi        980\n",
            "Horror        978\n",
            "Fantasy       779\n",
            "Name: count, dtype: int64\n"
          ]
        }
      ]
    },
    {
      "cell_type": "markdown",
      "source": [
        "#Preprocessing Data"
      ],
      "metadata": {
        "id": "6ZQ8UGDiuYu8"
      }
    },
    {
      "cell_type": "code",
      "source": [
        "# Gabungkan data ratings dan movies\n",
        "ratings = df_ratings.merge(df_movie)"
      ],
      "metadata": {
        "id": "IEP2FZa7NvRV"
      },
      "execution_count": null,
      "outputs": []
    },
    {
      "cell_type": "code",
      "source": [
        "ratings.head()"
      ],
      "metadata": {
        "colab": {
          "base_uri": "https://localhost:8080/",
          "height": 206
        },
        "id": "-eHJ4XYyOEla",
        "outputId": "eff1f9f1-2bb0-4c8a-c2f5-53bdafcb076c"
      },
      "execution_count": null,
      "outputs": [
        {
          "output_type": "execute_result",
          "data": {
            "text/plain": [
              "   userId  movieId  rating  timestamp                        title  \\\n",
              "0       1        1     4.0  964982703             Toy Story (1995)   \n",
              "1       1        3     4.0  964981247      Grumpier Old Men (1995)   \n",
              "2       1        6     4.0  964982224                  Heat (1995)   \n",
              "3       1       47     5.0  964983815  Seven (a.k.a. Se7en) (1995)   \n",
              "4       1       50     5.0  964982931   Usual Suspects, The (1995)   \n",
              "\n",
              "                                        genres  \n",
              "0  Adventure|Animation|Children|Comedy|Fantasy  \n",
              "1                               Comedy|Romance  \n",
              "2                        Action|Crime|Thriller  \n",
              "3                             Mystery|Thriller  \n",
              "4                       Crime|Mystery|Thriller  "
            ],
            "text/html": [
              "\n",
              "  <div id=\"df-c9e28e3e-2ec3-4b12-ac19-1470af9d8a2a\" class=\"colab-df-container\">\n",
              "    <div>\n",
              "<style scoped>\n",
              "    .dataframe tbody tr th:only-of-type {\n",
              "        vertical-align: middle;\n",
              "    }\n",
              "\n",
              "    .dataframe tbody tr th {\n",
              "        vertical-align: top;\n",
              "    }\n",
              "\n",
              "    .dataframe thead th {\n",
              "        text-align: right;\n",
              "    }\n",
              "</style>\n",
              "<table border=\"1\" class=\"dataframe\">\n",
              "  <thead>\n",
              "    <tr style=\"text-align: right;\">\n",
              "      <th></th>\n",
              "      <th>userId</th>\n",
              "      <th>movieId</th>\n",
              "      <th>rating</th>\n",
              "      <th>timestamp</th>\n",
              "      <th>title</th>\n",
              "      <th>genres</th>\n",
              "    </tr>\n",
              "  </thead>\n",
              "  <tbody>\n",
              "    <tr>\n",
              "      <th>0</th>\n",
              "      <td>1</td>\n",
              "      <td>1</td>\n",
              "      <td>4.0</td>\n",
              "      <td>964982703</td>\n",
              "      <td>Toy Story (1995)</td>\n",
              "      <td>Adventure|Animation|Children|Comedy|Fantasy</td>\n",
              "    </tr>\n",
              "    <tr>\n",
              "      <th>1</th>\n",
              "      <td>1</td>\n",
              "      <td>3</td>\n",
              "      <td>4.0</td>\n",
              "      <td>964981247</td>\n",
              "      <td>Grumpier Old Men (1995)</td>\n",
              "      <td>Comedy|Romance</td>\n",
              "    </tr>\n",
              "    <tr>\n",
              "      <th>2</th>\n",
              "      <td>1</td>\n",
              "      <td>6</td>\n",
              "      <td>4.0</td>\n",
              "      <td>964982224</td>\n",
              "      <td>Heat (1995)</td>\n",
              "      <td>Action|Crime|Thriller</td>\n",
              "    </tr>\n",
              "    <tr>\n",
              "      <th>3</th>\n",
              "      <td>1</td>\n",
              "      <td>47</td>\n",
              "      <td>5.0</td>\n",
              "      <td>964983815</td>\n",
              "      <td>Seven (a.k.a. Se7en) (1995)</td>\n",
              "      <td>Mystery|Thriller</td>\n",
              "    </tr>\n",
              "    <tr>\n",
              "      <th>4</th>\n",
              "      <td>1</td>\n",
              "      <td>50</td>\n",
              "      <td>5.0</td>\n",
              "      <td>964982931</td>\n",
              "      <td>Usual Suspects, The (1995)</td>\n",
              "      <td>Crime|Mystery|Thriller</td>\n",
              "    </tr>\n",
              "  </tbody>\n",
              "</table>\n",
              "</div>\n",
              "    <div class=\"colab-df-buttons\">\n",
              "\n",
              "  <div class=\"colab-df-container\">\n",
              "    <button class=\"colab-df-convert\" onclick=\"convertToInteractive('df-c9e28e3e-2ec3-4b12-ac19-1470af9d8a2a')\"\n",
              "            title=\"Convert this dataframe to an interactive table.\"\n",
              "            style=\"display:none;\">\n",
              "\n",
              "  <svg xmlns=\"http://www.w3.org/2000/svg\" height=\"24px\" viewBox=\"0 -960 960 960\">\n",
              "    <path d=\"M120-120v-720h720v720H120Zm60-500h600v-160H180v160Zm220 220h160v-160H400v160Zm0 220h160v-160H400v160ZM180-400h160v-160H180v160Zm440 0h160v-160H620v160ZM180-180h160v-160H180v160Zm440 0h160v-160H620v160Z\"/>\n",
              "  </svg>\n",
              "    </button>\n",
              "\n",
              "  <style>\n",
              "    .colab-df-container {\n",
              "      display:flex;\n",
              "      gap: 12px;\n",
              "    }\n",
              "\n",
              "    .colab-df-convert {\n",
              "      background-color: #E8F0FE;\n",
              "      border: none;\n",
              "      border-radius: 50%;\n",
              "      cursor: pointer;\n",
              "      display: none;\n",
              "      fill: #1967D2;\n",
              "      height: 32px;\n",
              "      padding: 0 0 0 0;\n",
              "      width: 32px;\n",
              "    }\n",
              "\n",
              "    .colab-df-convert:hover {\n",
              "      background-color: #E2EBFA;\n",
              "      box-shadow: 0px 1px 2px rgba(60, 64, 67, 0.3), 0px 1px 3px 1px rgba(60, 64, 67, 0.15);\n",
              "      fill: #174EA6;\n",
              "    }\n",
              "\n",
              "    .colab-df-buttons div {\n",
              "      margin-bottom: 4px;\n",
              "    }\n",
              "\n",
              "    [theme=dark] .colab-df-convert {\n",
              "      background-color: #3B4455;\n",
              "      fill: #D2E3FC;\n",
              "    }\n",
              "\n",
              "    [theme=dark] .colab-df-convert:hover {\n",
              "      background-color: #434B5C;\n",
              "      box-shadow: 0px 1px 3px 1px rgba(0, 0, 0, 0.15);\n",
              "      filter: drop-shadow(0px 1px 2px rgba(0, 0, 0, 0.3));\n",
              "      fill: #FFFFFF;\n",
              "    }\n",
              "  </style>\n",
              "\n",
              "    <script>\n",
              "      const buttonEl =\n",
              "        document.querySelector('#df-c9e28e3e-2ec3-4b12-ac19-1470af9d8a2a button.colab-df-convert');\n",
              "      buttonEl.style.display =\n",
              "        google.colab.kernel.accessAllowed ? 'block' : 'none';\n",
              "\n",
              "      async function convertToInteractive(key) {\n",
              "        const element = document.querySelector('#df-c9e28e3e-2ec3-4b12-ac19-1470af9d8a2a');\n",
              "        const dataTable =\n",
              "          await google.colab.kernel.invokeFunction('convertToInteractive',\n",
              "                                                    [key], {});\n",
              "        if (!dataTable) return;\n",
              "\n",
              "        const docLinkHtml = 'Like what you see? Visit the ' +\n",
              "          '<a target=\"_blank\" href=https://colab.research.google.com/notebooks/data_table.ipynb>data table notebook</a>'\n",
              "          + ' to learn more about interactive tables.';\n",
              "        element.innerHTML = '';\n",
              "        dataTable['output_type'] = 'display_data';\n",
              "        await google.colab.output.renderOutput(dataTable, element);\n",
              "        const docLink = document.createElement('div');\n",
              "        docLink.innerHTML = docLinkHtml;\n",
              "        element.appendChild(docLink);\n",
              "      }\n",
              "    </script>\n",
              "  </div>\n",
              "\n",
              "\n",
              "    <div id=\"df-4fdfe8aa-fd8b-4fa5-858b-f6a2cd887640\">\n",
              "      <button class=\"colab-df-quickchart\" onclick=\"quickchart('df-4fdfe8aa-fd8b-4fa5-858b-f6a2cd887640')\"\n",
              "                title=\"Suggest charts\"\n",
              "                style=\"display:none;\">\n",
              "\n",
              "<svg xmlns=\"http://www.w3.org/2000/svg\" height=\"24px\"viewBox=\"0 0 24 24\"\n",
              "     width=\"24px\">\n",
              "    <g>\n",
              "        <path d=\"M19 3H5c-1.1 0-2 .9-2 2v14c0 1.1.9 2 2 2h14c1.1 0 2-.9 2-2V5c0-1.1-.9-2-2-2zM9 17H7v-7h2v7zm4 0h-2V7h2v10zm4 0h-2v-4h2v4z\"/>\n",
              "    </g>\n",
              "</svg>\n",
              "      </button>\n",
              "\n",
              "<style>\n",
              "  .colab-df-quickchart {\n",
              "      --bg-color: #E8F0FE;\n",
              "      --fill-color: #1967D2;\n",
              "      --hover-bg-color: #E2EBFA;\n",
              "      --hover-fill-color: #174EA6;\n",
              "      --disabled-fill-color: #AAA;\n",
              "      --disabled-bg-color: #DDD;\n",
              "  }\n",
              "\n",
              "  [theme=dark] .colab-df-quickchart {\n",
              "      --bg-color: #3B4455;\n",
              "      --fill-color: #D2E3FC;\n",
              "      --hover-bg-color: #434B5C;\n",
              "      --hover-fill-color: #FFFFFF;\n",
              "      --disabled-bg-color: #3B4455;\n",
              "      --disabled-fill-color: #666;\n",
              "  }\n",
              "\n",
              "  .colab-df-quickchart {\n",
              "    background-color: var(--bg-color);\n",
              "    border: none;\n",
              "    border-radius: 50%;\n",
              "    cursor: pointer;\n",
              "    display: none;\n",
              "    fill: var(--fill-color);\n",
              "    height: 32px;\n",
              "    padding: 0;\n",
              "    width: 32px;\n",
              "  }\n",
              "\n",
              "  .colab-df-quickchart:hover {\n",
              "    background-color: var(--hover-bg-color);\n",
              "    box-shadow: 0 1px 2px rgba(60, 64, 67, 0.3), 0 1px 3px 1px rgba(60, 64, 67, 0.15);\n",
              "    fill: var(--button-hover-fill-color);\n",
              "  }\n",
              "\n",
              "  .colab-df-quickchart-complete:disabled,\n",
              "  .colab-df-quickchart-complete:disabled:hover {\n",
              "    background-color: var(--disabled-bg-color);\n",
              "    fill: var(--disabled-fill-color);\n",
              "    box-shadow: none;\n",
              "  }\n",
              "\n",
              "  .colab-df-spinner {\n",
              "    border: 2px solid var(--fill-color);\n",
              "    border-color: transparent;\n",
              "    border-bottom-color: var(--fill-color);\n",
              "    animation:\n",
              "      spin 1s steps(1) infinite;\n",
              "  }\n",
              "\n",
              "  @keyframes spin {\n",
              "    0% {\n",
              "      border-color: transparent;\n",
              "      border-bottom-color: var(--fill-color);\n",
              "      border-left-color: var(--fill-color);\n",
              "    }\n",
              "    20% {\n",
              "      border-color: transparent;\n",
              "      border-left-color: var(--fill-color);\n",
              "      border-top-color: var(--fill-color);\n",
              "    }\n",
              "    30% {\n",
              "      border-color: transparent;\n",
              "      border-left-color: var(--fill-color);\n",
              "      border-top-color: var(--fill-color);\n",
              "      border-right-color: var(--fill-color);\n",
              "    }\n",
              "    40% {\n",
              "      border-color: transparent;\n",
              "      border-right-color: var(--fill-color);\n",
              "      border-top-color: var(--fill-color);\n",
              "    }\n",
              "    60% {\n",
              "      border-color: transparent;\n",
              "      border-right-color: var(--fill-color);\n",
              "    }\n",
              "    80% {\n",
              "      border-color: transparent;\n",
              "      border-right-color: var(--fill-color);\n",
              "      border-bottom-color: var(--fill-color);\n",
              "    }\n",
              "    90% {\n",
              "      border-color: transparent;\n",
              "      border-bottom-color: var(--fill-color);\n",
              "    }\n",
              "  }\n",
              "</style>\n",
              "\n",
              "      <script>\n",
              "        async function quickchart(key) {\n",
              "          const quickchartButtonEl =\n",
              "            document.querySelector('#' + key + ' button');\n",
              "          quickchartButtonEl.disabled = true;  // To prevent multiple clicks.\n",
              "          quickchartButtonEl.classList.add('colab-df-spinner');\n",
              "          try {\n",
              "            const charts = await google.colab.kernel.invokeFunction(\n",
              "                'suggestCharts', [key], {});\n",
              "          } catch (error) {\n",
              "            console.error('Error during call to suggestCharts:', error);\n",
              "          }\n",
              "          quickchartButtonEl.classList.remove('colab-df-spinner');\n",
              "          quickchartButtonEl.classList.add('colab-df-quickchart-complete');\n",
              "        }\n",
              "        (() => {\n",
              "          let quickchartButtonEl =\n",
              "            document.querySelector('#df-4fdfe8aa-fd8b-4fa5-858b-f6a2cd887640 button');\n",
              "          quickchartButtonEl.style.display =\n",
              "            google.colab.kernel.accessAllowed ? 'block' : 'none';\n",
              "        })();\n",
              "      </script>\n",
              "    </div>\n",
              "\n",
              "    </div>\n",
              "  </div>\n"
            ],
            "application/vnd.google.colaboratory.intrinsic+json": {
              "type": "dataframe",
              "variable_name": "ratings"
            }
          },
          "metadata": {},
          "execution_count": 6
        }
      ]
    },
    {
      "cell_type": "code",
      "source": [
        "#split ratings to train df and test df (80:20)\n",
        "from sklearn.model_selection import train_test_split\n",
        "train_df, test_df = train_test_split(ratings, test_size=0.2, random_state=42)"
      ],
      "metadata": {
        "id": "xo6ob2RMYEML"
      },
      "execution_count": null,
      "outputs": []
    },
    {
      "cell_type": "markdown",
      "source": [
        "#Train Model"
      ],
      "metadata": {
        "id": "xaL90Qo3ucFD"
      }
    },
    {
      "cell_type": "code",
      "source": [
        "# --- Model Collaborative Filtering (fastai) ---\n",
        "# Persiapan data loaders\n",
        "dls = CollabDataLoaders.from_df(\n",
        "    train_df,\n",
        "    user_name='userId',\n",
        "    item_name='title',\n",
        "    rating_name='rating',\n",
        "    bs=64\n",
        ")\n",
        "\n",
        "# Latih model\n",
        "learn = collab_learner(dls, n_factors=50, y_range=(0.5, 5.5), metrics=rmse)\n",
        "learn.fit_one_cycle(5, 5e-3)\n",
        "\n",
        "# --- Model Content-based (berbasis genre) ---\n",
        "# Menggabungkan semua genre menjadi satu kolom string untuk vektorisasi\n",
        "# genres_df = df_movie.drop(columns=['movieId','title'])\n",
        "# genres_df['genres'] = genres_df.iloc[:, 1:].apply(\n",
        "#     lambda row: '|'.join([col for col, val in row.items() if val == 1]), axis=1\n",
        "# )\n",
        "\n",
        "# Use the existing 'genres' column from df_movie directly\n",
        "genres_data = df_movie['genres']\n",
        "\n",
        "# Inisialisasi TfidfVectorizer\n",
        "from sklearn.feature_extraction.text import TfidfVectorizer\n",
        "from sklearn.metrics.pairwise import cosine_similarity\n",
        "\n",
        "tfidf_vectorizer = TfidfVectorizer(stop_words='english')\n",
        "# Use the corrected genres_data for fitting and transforming\n",
        "tfidf_matrix = tfidf_vectorizer.fit_transform(genres_data)\n",
        "\n",
        "# Hitung Cosine Similarity\n",
        "cosine_sim = cosine_similarity(tfidf_matrix, tfidf_matrix)"
      ],
      "metadata": {
        "colab": {
          "base_uri": "https://localhost:8080/",
          "height": 206
        },
        "id": "gafBTA09OQeC",
        "outputId": "4dca630f-a52e-4191-c27f-2784d9fee895"
      },
      "execution_count": null,
      "outputs": [
        {
          "output_type": "display_data",
          "data": {
            "text/plain": [
              "<IPython.core.display.HTML object>"
            ],
            "text/html": [
              "\n",
              "<style>\n",
              "    /* Turns off some styling */\n",
              "    progress {\n",
              "        /* gets rid of default border in Firefox and Opera. */\n",
              "        border: none;\n",
              "        /* Needs to be in here for Safari polyfill so background images work as expected. */\n",
              "        background-size: auto;\n",
              "    }\n",
              "    progress:not([value]), progress:not([value])::-webkit-progress-bar {\n",
              "        background: repeating-linear-gradient(45deg, #7e7e7e, #7e7e7e 10px, #5c5c5c 10px, #5c5c5c 20px);\n",
              "    }\n",
              "    .progress-bar-interrupted, .progress-bar-interrupted::-webkit-progress-bar {\n",
              "        background: #F44336;\n",
              "    }\n",
              "</style>\n"
            ]
          },
          "metadata": {}
        },
        {
          "output_type": "display_data",
          "data": {
            "text/plain": [
              "<IPython.core.display.HTML object>"
            ],
            "text/html": [
              "<table border=\"1\" class=\"dataframe\">\n",
              "  <thead>\n",
              "    <tr style=\"text-align: left;\">\n",
              "      <th>epoch</th>\n",
              "      <th>train_loss</th>\n",
              "      <th>valid_loss</th>\n",
              "      <th>_rmse</th>\n",
              "      <th>time</th>\n",
              "    </tr>\n",
              "  </thead>\n",
              "  <tbody>\n",
              "    <tr>\n",
              "      <td>0</td>\n",
              "      <td>0.722827</td>\n",
              "      <td>0.809334</td>\n",
              "      <td>0.899630</td>\n",
              "      <td>00:17</td>\n",
              "    </tr>\n",
              "    <tr>\n",
              "      <td>1</td>\n",
              "      <td>0.401113</td>\n",
              "      <td>0.778353</td>\n",
              "      <td>0.882243</td>\n",
              "      <td>00:14</td>\n",
              "    </tr>\n",
              "    <tr>\n",
              "      <td>2</td>\n",
              "      <td>0.246760</td>\n",
              "      <td>0.788836</td>\n",
              "      <td>0.888165</td>\n",
              "      <td>00:21</td>\n",
              "    </tr>\n",
              "    <tr>\n",
              "      <td>3</td>\n",
              "      <td>0.171190</td>\n",
              "      <td>0.793321</td>\n",
              "      <td>0.890686</td>\n",
              "      <td>00:14</td>\n",
              "    </tr>\n",
              "    <tr>\n",
              "      <td>4</td>\n",
              "      <td>0.153360</td>\n",
              "      <td>0.794356</td>\n",
              "      <td>0.891267</td>\n",
              "      <td>00:16</td>\n",
              "    </tr>\n",
              "  </tbody>\n",
              "</table>"
            ]
          },
          "metadata": {}
        }
      ]
    },
    {
      "cell_type": "markdown",
      "source": [
        "##Membuat Model Hybrid"
      ],
      "metadata": {
        "id": "nAYuyHGgufnU"
      }
    },
    {
      "cell_type": "code",
      "source": [
        "def get_hybrid_recommendations(user_id, num_recommendations=10, collaborative_weight=0.6, content_weight=0.4):\n",
        "    \"\"\"\n",
        "    Memberikan rekomendasi film hibrida untuk pengguna tertentu.\n",
        "\n",
        "    Fungsi ini menggabungkan:\n",
        "    1. Prediksi rating dari model Collaborative Filtering.\n",
        "    2. Kemiripan genre dari model Content-based Filtering.\n",
        "\n",
        "    Args:\n",
        "        user_id (int): ID pengguna.\n",
        "        num_recommendations (int): Jumlah rekomendasi yang diinginkan.\n",
        "        collaborative_weight (float): Bobot untuk skor collaborative (prediksi rating).\n",
        "        content_weight (float): Bobot untuk skor content-based (kemiripan genre).\n",
        "\n",
        "    Returns:\n",
        "        pd.DataFrame: Daftar film yang direkomendasikan dengan skor hibrida.\n",
        "    \"\"\"\n",
        "    # 1. Mendapatkan daftar film yang belum pernah ditonton pengguna\n",
        "    user_rated_movies = train_df[train_df['userId'] == user_id]['title'].tolist()\n",
        "    all_movies_titles = df_movie['title'].tolist()\n",
        "    unrated_movies = [title for title in all_movies_titles if title not in user_rated_movies]\n",
        "\n",
        "    # Pilih 100 film acak dari yang belum ditonton untuk diprediksi (untuk efisiensi)\n",
        "    unrated_movies_sample = pd.Series(unrated_movies).tolist()\n",
        "\n",
        "    # 2. Menggunakan model Collaborative untuk memprediksi rating\n",
        "    user_tensor = torch.tensor([dls.classes['userId'].o2i[user_id]] * len(unrated_movies_sample))\n",
        "    movie_titles_tensor = torch.tensor([dls.classes['title'].o2i[title] for title in unrated_movies_sample])\n",
        "\n",
        "    # Concatenate user and movie tensors\n",
        "    collab_input = torch.stack([user_tensor, movie_titles_tensor], dim=1)\n",
        "\n",
        "    with torch.no_grad():\n",
        "        collab_preds = learn.model.forward(collab_input)\n",
        "    collab_preds = collab_preds.numpy()\n",
        "\n",
        "    collab_df = pd.DataFrame({'title': unrated_movies_sample, 'predicted_rating': collab_preds.flatten()}) # Flatten to match the shape\n",
        "\n",
        "    # 3. Mendapatkan film favorit pengguna (sebagai \"benih\" untuk model Content-based)\n",
        "    # Kita ambil 5 film dengan rating tertinggi dari pengguna\n",
        "    user_top_movies = train_df[(train_df['userId'] == user_id) & (train_df['rating'] >= 4)].sort_values(by='rating', ascending=False).head(5)\n",
        "\n",
        "    if user_top_movies.empty:\n",
        "        print(\"Pengguna ini belum memiliki rating film tinggi. Menggunakan rekomendasi Collaborative saja.\")\n",
        "        # Add content similarity scores of 0 for all recommendations if no top movies\n",
        "        collab_df['content_sim_score'] = 0.0\n",
        "        collab_df['hybrid_score'] = collaborative_weight * collab_df['predicted_rating']\n",
        "        return collab_df.sort_values(by='hybrid_score', ascending=False).head(num_recommendations)\n",
        "\n",
        "\n",
        "    seed_movie_title = user_top_movies['title'].iloc[0]\n",
        "\n",
        "    # 4. Menghitung skor kemiripan konten untuk re-ranking\n",
        "    # Dapatkan indeks film 'seed'\n",
        "    seed_movie_idx = df_movie[df_movie['title'] == seed_movie_title].index[0]\n",
        "\n",
        "    # Dapatkan skor kemiripan dari film seed dengan semua film lain\n",
        "    content_sim_scores = cosine_sim[seed_movie_idx]\n",
        "\n",
        "    # Gabungkan dengan dataframe prediksi\n",
        "    hybrid_recs = collab_df.merge(df_movie[['title']], on='title')\n",
        "    hybrid_recs['content_sim_score'] = hybrid_recs['title'].apply(\n",
        "        lambda x: content_sim_scores[df_movie[df_movie['title'] == x].index[0]]\n",
        "    )\n",
        "\n",
        "    # 5. Menggabungkan skor untuk mendapatkan skor hibrida\n",
        "    hybrid_recs['hybrid_score'] = (\n",
        "        collaborative_weight * hybrid_recs['predicted_rating'] +\n",
        "        content_weight * (hybrid_recs['content_sim_score'] * 5) # Kalikan dengan 5 agar skalanya mirip\n",
        "    )\n",
        "\n",
        "    # Urutkan berdasarkan skor hibrida dan tampilkan hasilnya\n",
        "    final_recs = hybrid_recs.sort_values(by='hybrid_score', ascending=False).head(num_recommendations)\n",
        "    return final_recs[['title', 'hybrid_score', 'predicted_rating', 'content_sim_score']]"
      ],
      "metadata": {
        "id": "gYamRKt9Rnuq"
      },
      "execution_count": null,
      "outputs": []
    },
    {
      "cell_type": "markdown",
      "source": [
        "##Contoh Testing"
      ],
      "metadata": {
        "id": "ZYm4CUWiulpN"
      }
    },
    {
      "cell_type": "code",
      "source": [
        "# Contoh penggunaan:\n",
        "user_id_to_recommend = 197\n",
        "print(f\"--- Rekomendasi Hibrida untuk Pengguna {user_id_to_recommend} ---\")\n",
        "recommendations = get_hybrid_recommendations(user_id_to_recommend)\n",
        "print(recommendations)"
      ],
      "metadata": {
        "colab": {
          "base_uri": "https://localhost:8080/"
        },
        "id": "h3OzPld1Saiz",
        "outputId": "8c5815eb-e204-44b1-9bb8-4b83e6b64504"
      },
      "execution_count": null,
      "outputs": [
        {
          "output_type": "stream",
          "name": "stdout",
          "text": [
            "--- Rekomendasi Hibrida untuk Pengguna 197 ---\n",
            "                                    title  hybrid_score  predicted_rating  \\\n",
            "189                         Clerks (1994)      4.858077          4.763462   \n",
            "7569         Louis C.K.: Hilarious (2010)      4.834403          4.724005   \n",
            "3298       Dirty Rotten Scoundrels (1988)      4.797059          4.661765   \n",
            "147             Living in Oblivion (1995)      4.776928          4.628214   \n",
            "974             This Is Spinal Tap (1984)      4.732128          4.553546   \n",
            "2962  Planes, Trains & Automobiles (1987)      4.718445          4.530741   \n",
            "1060               Raising Arizona (1987)      4.680098          4.466830   \n",
            "8208         Louis C.K.: Oh My God (2013)      4.675273          4.458788   \n",
            "7570         Louis C.K.: Chewed Up (2008)      4.661955          4.436591   \n",
            "378             Dazed and Confused (1993)      4.660936          4.434893   \n",
            "\n",
            "      content_sim_score  \n",
            "189                 1.0  \n",
            "7569                1.0  \n",
            "3298                1.0  \n",
            "147                 1.0  \n",
            "974                 1.0  \n",
            "2962                1.0  \n",
            "1060                1.0  \n",
            "8208                1.0  \n",
            "7570                1.0  \n",
            "378                 1.0  \n"
          ]
        }
      ]
    },
    {
      "cell_type": "markdown",
      "source": [
        "#Evaluasi Model"
      ],
      "metadata": {
        "id": "s6INXUVruoO4"
      }
    },
    {
      "cell_type": "code",
      "source": [
        "def evaluate_hybrid_recommender(model, ratings_df, test_df, k=10, min_rating=4.0):\n",
        "    \"\"\"\n",
        "    Mengevaluasi sistem rekomendasi hibrida menggunakan metrik Precision@k dan Recall@k.\n",
        "\n",
        "    Args:\n",
        "        model: Model fastai yang sudah dilatih.\n",
        "        ratings_df (pd.DataFrame): Dataframe rating lengkap.\n",
        "        k (int): Jumlah item teratas yang akan dipertimbangkan untuk rekomendasi.\n",
        "        min_rating (float): Rating minimum untuk dianggap \"relevan\".\n",
        "\n",
        "    Returns:\n",
        "        tuple: Precision@k dan Recall@k rata-rata.\n",
        "    \"\"\"\n",
        "    all_users = test_df['userId'].unique()\n",
        "    all_movies = ratings_df['title'].unique()\n",
        "\n",
        "    precision_scores = []\n",
        "    recall_scores = []\n",
        "\n",
        "    # Ambil sampel beberapa pengguna untuk evaluasi yang efisien\n",
        "    sample_users = pd.Series(all_users).sample(n=min(50, len(all_users)), random_state=42)\n",
        "\n",
        "    for user_id in sample_users:\n",
        "        # Dapatkan film yang sudah dirating pengguna\n",
        "        user_ratings = test_df[test_df['userId'] == user_id]\n",
        "\n",
        "        # Pisahkan film relevan (rating tinggi) dari film yang tidak relevan\n",
        "        relevant_movies = user_ratings[user_ratings['rating'] >= min_rating]['title'].tolist()\n",
        "        print(f\"Pengguna {user_id} memiliki {len(relevant_movies)} film relevan.\")\n",
        "        # Dapatkan rekomendasi hibrida\n",
        "        # Karena ini simulasi, kita gunakan fungsi rekomendasi sebelumnya\n",
        "        recommendations = get_hybrid_recommendations(user_id, num_recommendations=k)\n",
        "        print(f\"Rekomendasi untuk pengguna {user_id}: {recommendations['title'].tolist()}\")\n",
        "        if recommendations is None:\n",
        "            continue\n",
        "\n",
        "        recommended_movies = recommendations['title'].tolist()\n",
        "\n",
        "        # Hitung irisan antara film yang direkomendasikan dan film yang relevan\n",
        "        hits = len(set(recommended_movies) & set(relevant_movies))\n",
        "        print(f\"Pengguna {user_id} memiliki {hits} hits.\")\n",
        "        # Hitung Precision@k\n",
        "        precision = hits / len(recommended_movies) if len(recommended_movies) > 0 else 0\n",
        "        precision_scores.append(precision)\n",
        "\n",
        "        # Hitung Recall@k\n",
        "        recall = hits / len(relevant_movies) if len(relevant_movies) > 0 else 0\n",
        "        recall_scores.append(recall)\n",
        "\n",
        "    # Hitung rata-rata Precision dan Recall\n",
        "    avg_precision = sum(precision_scores) / len(precision_scores) if precision_scores else 0\n",
        "    avg_recall = sum(recall_scores) / len(recall_scores) if recall_scores else 0\n",
        "\n",
        "    return avg_precision, avg_recall\n",
        "\n"
      ],
      "metadata": {
        "id": "f5O4npLsT19E"
      },
      "execution_count": null,
      "outputs": []
    },
    {
      "cell_type": "code",
      "source": [
        "# Uji coba dengan k=10 dan rating relevan >= 4\n",
        "avg_prec, avg_rec = evaluate_hybrid_recommender(learn, ratings, test_df, k=10, min_rating=4.0)\n",
        "print(f\"Rata-rata Precision@{10}: {avg_prec:.4f}\")\n",
        "print(f\"Rata-rata Recall@{10}: {avg_rec:.4f}\")"
      ],
      "metadata": {
        "colab": {
          "base_uri": "https://localhost:8080/"
        },
        "id": "p8q1pApaUCuh",
        "outputId": "0effc6ba-21fe-4f7a-b4e8-3b6730441cfa"
      },
      "execution_count": null,
      "outputs": [
        {
          "output_type": "stream",
          "name": "stdout",
          "text": [
            "Pengguna 428 memiliki 4 film relevan.\n",
            "Rekomendasi untuk pengguna 428: ['Juno (2007)', 'Harold and Maude (1971)', 'The Artist (2011)', 'Postman, The (Postino, Il) (1994)', 'Love Actually (2003)', 'Roman Holiday (1953)', 'Philadelphia Story, The (1940)', 'Moonrise Kingdom (2012)', 'Adaptation (2002)', 'Hannah and Her Sisters (1986)']\n",
            "Pengguna 428 memiliki 0 hits.\n",
            "Pengguna 582 memiliki 9 film relevan.\n",
            "Rekomendasi untuk pengguna 582: ['Watchmen (2009)', 'Edge of Tomorrow (2014)', 'V for Vendetta (2006)', 'Batman Begins (2005)', 'Amazing Spider-Man, The (2012)', 'Matrix, The (1999)', 'The Hunger Games: Catching Fire (2013)', 'I Am Legend (2007)', 'Star Trek Into Darkness (2013)', 'Chronicle (2012)']\n",
            "Pengguna 582 memiliki 1 hits.\n",
            "Pengguna 215 memiliki 14 film relevan.\n",
            "Rekomendasi untuk pengguna 215: ['Casino (1995)', 'Godfather, The (1972)', 'Godfather: Part II, The (1974)', 'American History X (1998)', 'Dog Day Afternoon (1975)', 'Bonnie and Clyde (1967)', 'Goodfellas (1990)', 'Once Were Warriors (1994)', 'Hate (Haine, La) (1995)', 'Blow (2001)']\n",
            "Pengguna 215 memiliki 0 hits.\n",
            "Pengguna 461 memiliki 3 film relevan.\n",
            "Rekomendasi untuk pengguna 461: ['Come and See (Idi i smotri) (1985)', 'Life Is Beautiful (La Vita è bella) (1997)', 'Human Condition III, The (Ningen no joken III) (1961)', 'Hotel Rwanda (2004)', 'English Patient, The (1996)', 'Atonement (2007)', 'I Served the King of England (Obsluhoval jsem anglického krále) (2006)', 'Best Years of Our Lives, The (1946)', 'Youth in Revolt (2009)', 'Doctor Zhivago (1965)']\n",
            "Pengguna 461 memiliki 0 hits.\n",
            "Pengguna 197 memiliki 2 film relevan.\n",
            "Rekomendasi untuk pengguna 197: ['Clerks (1994)', 'Louis C.K.: Hilarious (2010)', 'Dirty Rotten Scoundrels (1988)', 'Living in Oblivion (1995)', 'This Is Spinal Tap (1984)', 'Planes, Trains & Automobiles (1987)', 'Raising Arizona (1987)', 'Louis C.K.: Oh My God (2013)', 'Louis C.K.: Chewed Up (2008)', 'Dazed and Confused (1993)']\n",
            "Pengguna 197 memiliki 0 hits.\n",
            "Pengguna 600 memiliki 42 film relevan.\n",
            "Rekomendasi untuk pengguna 600: ['Nausicaä of the Valley of the Wind (Kaze no tani no Naushika) (1984)', \"Bill & Ted's Bogus Journey (1991)\", \"Hitchhiker's Guide to the Galaxy, The (2005)\", 'Barbarella (1968)', '2001: A Space Odyssey (1968)', 'Hellboy II: The Golden Army (2008)', 'FLCL (2000)', 'Big Trouble in Little China (1986)', 'Avengers: Infinity War - Part I (2018)', 'Howard the Duck (1986)']\n",
            "Pengguna 600 memiliki 1 hits.\n",
            "Pengguna 537 memiliki 5 film relevan.\n",
            "Rekomendasi untuk pengguna 537: ['Princess Bride, The (1987)', 'Monty Python and the Holy Grail (1975)', 'Indiana Jones and the Temple of Doom (1984)', 'Big Trouble in Little China (1986)', 'Your Highness (2011)', '47 Ronin (2013)', 'Yojimbo (1961)', 'Goonies, The (1985)', 'Jason and the Argonauts (1963)', 'Dogma (1999)']\n",
            "Pengguna 537 memiliki 0 hits.\n",
            "Pengguna 362 memiliki 18 film relevan.\n",
            "Rekomendasi untuk pengguna 362: ['Django Unchained (2012)', 'Fistful of Dollars, A (Per un pugno di dollari) (1964)', 'Tombstone (1993)', 'Treasure of the Sierra Madre, The (1948)', 'For a Few Dollars More (Per qualche dollaro in più) (1965)', 'Shane (1953)', 'High Noon (1952)', 'Searchers, The (1956)', 'Outlaw Josey Wales, The (1976)', 'Pale Rider (1985)']\n",
            "Pengguna 362 memiliki 0 hits.\n",
            "Pengguna 224 memiliki 6 film relevan.\n",
            "Rekomendasi untuk pengguna 224: ['Down to Earth (2001)', 'Midnight in Paris (2011)', 'Ghost (1990)', 'Stranger than Fiction (2006)', 'Shallow Hal (2001)', 'City of Angels (1998)', 'Big Fish (2003)', 'Purple Rose of Cairo, The (1985)', \"There's Something About Mary (1998)\", 'About Time (2013)']\n",
            "Pengguna 224 memiliki 0 hits.\n",
            "Pengguna 97 memiliki 7 film relevan.\n",
            "Rekomendasi untuk pengguna 97: ['Star Wars: Episode V - The Empire Strikes Back (1980)', 'Iron Man (2008)', 'Avengers: Infinity War - Part I (2018)', 'Serenity (2005)', 'X2: X-Men United (2003)', 'Star Wars: Episode IV - A New Hope (1977)', 'Doctor Strange (2016)', 'Deadpool (2016)', 'Ant-Man (2015)', 'Avengers: Age of Ultron (2015)']\n",
            "Pengguna 97 memiliki 0 hits.\n",
            "Pengguna 165 memiliki 8 film relevan.\n",
            "Rekomendasi untuk pengguna 165: ['Yojimbo (1961)', 'Gladiator (2000)', 'Rock, The (1996)', 'Ben-Hur (1959)', 'Hunt for Red October, The (1990)', 'Indiana Jones and the Temple of Doom (1984)', 'Poseidon Adventure, The (1972)', 'The Count of Monte Cristo (2002)', 'Armour of God II: Operation Condor (Operation Condor) (Fei ying gai wak) (1991)', 'The Man from U.N.C.L.E. (2015)']\n",
            "Pengguna 165 memiliki 0 hits.\n",
            "Pengguna 576 memiliki 2 film relevan.\n",
            "Rekomendasi untuk pengguna 576: ['Matrix, The (1999)', 'eXistenZ (1999)', 'Terminator, The (1984)', 'Logan (2017)', 'Eternal Sunshine of the Spotless Mind (2004)', 'Equilibrium (2002)', 'Star Trek: First Contact (1996)', 'Predator (1987)', 'Thing, The (1982)', 'Children of Men (2006)']\n",
            "Pengguna 576 memiliki 0 hits.\n",
            "Pengguna 313 memiliki 32 film relevan.\n",
            "Rekomendasi untuk pengguna 313: ['Mad Max: Fury Road (2015)', 'Thing, The (1982)', 'Pi (1998)', 'Outbreak (1995)', 'Chronicles of Riddick, The (2004)', 'Clockwork Orange, A (1971)', 'Truman Show, The (1998)', 'eXistenZ (1999)', 'Aeon Flux (2005)', 'X-Men: The Last Stand (2006)']\n",
            "Pengguna 313 memiliki 0 hits.\n",
            "Pengguna 72 memiliki 6 film relevan.\n",
            "Rekomendasi untuk pengguna 72: ['Terminator, The (1984)', 'Chronicle (2012)', 'Equilibrium (2002)', 'Thing, The (1982)', 'Logan (2017)', 'Limitless (2011)', 'eXistenZ (1999)', 'Gattaca (1997)', 'Blade Runner (1982)', 'Lockout (2012)']\n",
            "Pengguna 72 memiliki 0 hits.\n",
            "Pengguna 533 memiliki 5 film relevan.\n",
            "Rekomendasi untuk pengguna 533: ['What We Do in the Shadows (2014)', 'Bubba Ho-tep (2002)', 'Scary Movie (2000)', 'Dr. Giggles (1992)', 'Gremlins (1984)', 'Revenant, The (2009)', 'Lost Boys, The (1987)', 'Hatchet III (2013)', 'It Follows (2014)', 'Sorority House Massacre II (1990)']\n",
            "Pengguna 533 memiliki 0 hits.\n",
            "Pengguna 553 memiliki 8 film relevan.\n",
            "Rekomendasi untuk pengguna 553: ['Zodiac (2007)', 'Taxi Driver (1976)', 'In Bruges (2008)', 'Cape Fear (1962)', 'Eastern Promises (2007)', \"Man Bites Dog (C'est arrivé près de chez vous) (1992)\", 'Shawshank Redemption, The (1994)', 'True Romance (1993)', 'Training Day (2001)', 'Simple Plan, A (1998)']\n",
            "Pengguna 553 memiliki 0 hits.\n",
            "Pengguna 207 memiliki 0 film relevan.\n",
            "Rekomendasi untuk pengguna 207: ['And Your Mother Too (Y tu mamá también) (2001)', 'The Theory of Everything (2014)', 'Pride and Prejudice (1995)', 'Duchess, The (2008)', 'Virgin Suicides, The (1999)', 'Pride & Prejudice (2005)', 'Talk to Her (Hable con Ella) (2002)', 'Notebook, The (2004)', 'In America (2002)', 'Good Will Hunting (1997)']\n",
            "Pengguna 207 memiliki 0 hits.\n",
            "Pengguna 55 memiliki 2 film relevan.\n",
            "Rekomendasi untuk pengguna 55: ['Pulp Fiction (1994)', 'Inside Man (2006)', \"Man Bites Dog (C'est arrivé près de chez vous) (1992)\", 'In Bruges (2008)', 'Fight Club (1999)', 'Office Space (1999)', 'Out of Sight (1998)', 'Fargo (1996)', 'Wolf of Wall Street, The (2013)', 'Sting, The (1973)']\n",
            "Pengguna 55 memiliki 0 hits.\n",
            "Pengguna 567 memiliki 10 film relevan.\n",
            "Rekomendasi untuk pengguna 567: ['Children of Men (2006)', 'Battlestar Galactica (2003)', 'Ex Machina (2015)', 'American Beauty (1999)', 'Open Your Eyes (Abre los ojos) (1997)', 'Her (2013)', 'Limitless (2011)', \"Hitchhiker's Guide to the Galaxy, The (2005)\", 'Planet Terror (2007)', 'Mission to Mars (2000)']\n",
            "Pengguna 567 memiliki 0 hits.\n",
            "Pengguna 599 memiliki 34 film relevan.\n",
            "Rekomendasi untuk pengguna 599: ['Rise of the Planet of the Apes (2011)', 'Guardians of the Galaxy (2014)', 'Aliens (1986)', 'I, Robot (2004)', 'Thing, The (1982)', 'Star Wars: Episode VI - Return of the Jedi (1983)', 'Dune (1984)', 'Total Recall (1990)', 'Logan (2017)', 'Star Wars: Episode V - The Empire Strikes Back (1980)']\n",
            "Pengguna 599 memiliki 3 hits.\n",
            "Pengguna 517 memiliki 26 film relevan.\n",
            "Rekomendasi untuk pengguna 517: ['The Shape of Water (2017)', 'Dragonheart (1996)', 'Lord of the Rings: The Two Towers, The (2002)', 'Chitty Chitty Bang Bang (1968)', 'Wizard of Oz, The (1939)', 'The Odyssey (1997)', '10th Kingdom, The (2000)', 'Click (2006)', 'All That Jazz (1979)', 'Season of the Witch (2011)']\n",
            "Pengguna 517 memiliki 1 hits.\n",
            "Pengguna 247 memiliki 18 film relevan.\n",
            "Rekomendasi untuk pengguna 247: ['Watchmen (2009)', 'Hobbit: An Unexpected Journey, The (2012)', 'Harry Potter and the Half-Blood Prince (2009)', 'Thor (2011)', 'Star Wars: Episode VII - The Force Awakens (2015)', 'Thor: The Dark World (2013)', 'Journey to the West: Conquering the Demons (Daai wa sai you chi Chui mo chun kei) (2013)', 'Captain Phillips (2013)', 'Spirited Away (Sen to Chihiro no kamikakushi) (2001)', 'Princess Mononoke (Mononoke-hime) (1997)']\n",
            "Pengguna 247 memiliki 1 hits.\n",
            "Pengguna 563 memiliki 10 film relevan.\n",
            "Rekomendasi untuk pengguna 563: ['Mrs. Doubtfire (1993)', 'League of Their Own, A (1992)', 'Terms of Endearment (1983)', \"Cookie's Fortune (1999)\", 'Birdman: Or (The Unexpected Virtue of Ignorance) (2014)', 'American Splendor (2003)', 'That Thing You Do! (1996)', 'Big Chill, The (1983)', 'Being There (1979)', 'Elling (2001)']\n",
            "Pengguna 563 memiliki 0 hits.\n",
            "Pengguna 199 memiliki 27 film relevan.\n",
            "Rekomendasi untuk pengguna 199: ['Jurassic Park (1993)', 'Predator 2 (1990)', 'Limitless (2011)', 'Brazil (1985)', 'Captain America: Civil War (2016)', 'Rise of the Planet of the Apes (2011)', 'Superman II (1980)', 'Aliens (1986)', 'eXistenZ (1999)', 'Predators (2010)']\n",
            "Pengguna 199 memiliki 0 hits.\n",
            "Pengguna 608 memiliki 57 film relevan.\n",
            "Rekomendasi untuk pengguna 608: ['Hustler, The (1961)', 'Departures (Okuribito) (2008)', 'Wrestler, The (2008)', 'Social Network, The (2010)', 'Do the Right Thing (1989)', 'Woman in the Dunes (Suna no onna) (1964)', 'Streetcar Named Desire, A (1951)', 'Million Dollar Baby (2004)', 'Sweet Hereafter, The (1997)', 'Dallas Buyers Club (2013)']\n",
            "Pengguna 608 memiliki 0 hits.\n",
            "Pengguna 383 memiliki 4 film relevan.\n",
            "Rekomendasi untuk pengguna 383: [\"Amores Perros (Love's a Bitch) (2000)\", 'Firm, The (1993)', 'Girl with the Dragon Tattoo, The (2011)', 'Gaslight (1944)', 'Das Experiment (Experiment, The) (2001)', 'Black Swan (2010)', 'Funny Games U.S. (2007)', 'Murder in the First (1995)', 'Michael Clayton (2007)', 'Last King of Scotland, The (2006)']\n",
            "Pengguna 383 memiliki 0 hits.\n",
            "Pengguna 569 memiliki 5 film relevan.\n",
            "Rekomendasi untuk pengguna 569: ['Lock, Stock & Two Smoking Barrels (1998)', 'Few Good Men, A (1992)', 'In Bruges (2008)', 'Departed, The (2006)', \"Man Bites Dog (C'est arrivé près de chez vous) (1992)\", 'Shawshank Redemption, The (1994)', 'Freeway (1996)', 'Nightcrawler (2014)', \"Ocean's Eleven (2001)\", 'Zodiac (2007)']\n",
            "Pengguna 569 memiliki 0 hits.\n",
            "Pengguna 457 memiliki 4 film relevan.\n",
            "Rekomendasi untuk pengguna 457: ['Yojimbo (1961)', 'Indiana Jones and the Last Crusade (1989)', 'Hero (Ying xiong) (2002)', 'Raiders of the Lost Ark (Indiana Jones and the Raiders of the Lost Ark) (1981)', 'Seven Samurai (Shichinin no samurai) (1954)', 'Man in the Iron Mask, The (1998)', 'Sanjuro (Tsubaki Sanjûrô) (1962)', 'First Blood (Rambo: First Blood) (1982)', 'The Man from U.N.C.L.E. (2015)', 'All Is Lost (2013)']\n",
            "Pengguna 457 memiliki 0 hits.\n",
            "Pengguna 318 memiliki 78 film relevan.\n",
            "Rekomendasi untuk pengguna 318: ['Billy Elliot (2000)', 'Vera Drake (2004)', 'Rain Man (1988)', 'Hustler, The (1961)', 'Karate Kid, The (1984)', \"Passion of Joan of Arc, The (Passion de Jeanne d'Arc, La) (1928)\", 'Seventh Seal, The (Sjunde inseglet, Det) (1957)', 'Strada, La (1954)', 'Cool Hand Luke (1967)', 'Passion Fish (1992)']\n",
            "Pengguna 318 memiliki 1 hits.\n",
            "Pengguna 185 memiliki 6 film relevan.\n",
            "Rekomendasi untuk pengguna 185: ['Seven (a.k.a. Se7en) (1995)', 'Rear Window (1954)', 'Old Boy (2003)', 'Witness for the Prosecution (1957)', 'Reservoir Dogs (1992)', 'The Machinist (2004)', 'Dogville (2003)', 'No Way Out (1987)', 'Prisoners (2013)', 'Shutter Island (2010)']\n",
            "Pengguna 185 memiliki 0 hits.\n",
            "Pengguna 46 memiliki 4 film relevan.\n",
            "Rekomendasi untuk pengguna 46: ['Forrest Gump (1994)', 'The Alamo (2004)', 'Life Is Beautiful (La Vita è bella) (1997)', 'Giant (1956)', 'Best Years of Our Lives, The (1946)', 'Unforgiven (1992)', 'Searchers, The (1956)', 'Man from Snowy River, The (1982)', 'Alamo, The (1960)', 'Blazing Saddles (1974)']\n",
            "Pengguna 46 memiliki 0 hits.\n",
            "Pengguna 38 memiliki 7 film relevan.\n",
            "Rekomendasi untuk pengguna 38: [\"Monty Python's Life of Brian (1979)\", 'This Is Spinal Tap (1984)', 'Airplane! (1980)', \"Monty Python's And Now for Something Completely Different (1971)\", 'Raising Arizona (1987)', 'Real Genius (1985)', 'Dirty Rotten Scoundrels (1988)', 'Dodgeball: A True Underdog Story (2004)', 'Eddie Izzard: Dress to Kill (1999)', 'Bill Hicks: Revelations (1993)']\n",
            "Pengguna 38 memiliki 0 hits.\n",
            "Pengguna 352 memiliki 42 film relevan.\n",
            "Rekomendasi untuk pengguna 352: ['Kill Bill: Vol. 1 (2003)', 'Bourne Supremacy, The (2004)', 'Boondock Saints, The (2000)', 'Patriot Games (1992)', 'Munich (2005)', 'Killer, The (Die xue shuang xiong) (1989)', 'Collateral (2004)', 'Baby Driver (2017)', 'Kill Bill: Vol. 2 (2004)', 'Punisher, The (2004)']\n",
            "Pengguna 352 memiliki 0 hits.\n",
            "Pengguna 554 memiliki 12 film relevan.\n",
            "Rekomendasi untuk pengguna 554: ['Rudy (1993)', 'Billy Elliot (2000)', 'Streetcar Named Desire, A (1951)', 'Color Purple, The (1985)', \"What's Eating Gilbert Grape (1993)\", 'Chorus, The (Choristes, Les) (2004)', 'Philadelphia (1993)', 'Rain Man (1988)', 'Whiplash (2014)', 'Dead Poets Society (1989)']\n",
            "Pengguna 554 memiliki 0 hits.\n",
            "Pengguna 243 memiliki 5 film relevan.\n",
            "Rekomendasi untuk pengguna 243: ['Die Hard (1988)', 'U.S. Marshals (1998)', 'Replacement Killers, The (1998)', 'Clear and Present Danger (1994)', 'Bourne Supremacy, The (2004)', 'Cop Land (1997)', \"Ocean's Twelve (2004)\", 'Italian Job, The (2003)', 'Net, The (1995)', \"Ocean's Eleven (2001)\"]\n",
            "Pengguna 243 memiliki 0 hits.\n",
            "Pengguna 297 memiliki 5 film relevan.\n",
            "Rekomendasi untuk pengguna 297: ['Seven (a.k.a. Se7en) (1995)', 'To Catch a Thief (1955)', 'Memento (2000)', 'Kiss Kiss Bang Bang (2005)', 'Secret in Their Eyes, The (El secreto de sus ojos) (2009)', 'Spanish Prisoner, The (1997)', 'Fight Club (1999)', 'Pulp Fiction (1994)', 'Gone Baby Gone (2007)', 'Dial M for Murder (1954)']\n",
            "Pengguna 297 memiliki 1 hits.\n",
            "Pengguna 118 memiliki 2 film relevan.\n",
            "Rekomendasi untuk pengguna 118: ['Godfather, The (1972)', 'Casino (1995)', 'Bonnie and Clyde (1967)', 'Shawshank Redemption, The (1994)', 'American History X (1998)', 'Serpico (1973)', 'Once Were Warriors (1994)', 'Green Mile, The (1999)', 'Dog Day Afternoon (1975)', 'Ghost Dog: The Way of the Samurai (1999)']\n",
            "Pengguna 118 memiliki 1 hits.\n",
            "Pengguna 30 memiliki 5 film relevan.\n",
            "Rekomendasi untuk pengguna 30: ['Avengers: Infinity War - Part I (2018)', 'Deadpool (2016)', 'Doctor Strange (2016)', 'Avengers: Age of Ultron (2015)', 'Serenity (2005)', 'Thor: Ragnarok (2017)', 'X-Men (2000)', 'Logan (2017)', 'Rogue One: A Star Wars Story (2016)', 'X2: X-Men United (2003)']\n",
            "Pengguna 30 memiliki 1 hits.\n",
            "Pengguna 343 memiliki 10 film relevan.\n",
            "Rekomendasi untuk pengguna 343: ['Boondock Saints, The (2000)', 'Léon: The Professional (a.k.a. The Professional) (Léon) (1994)', 'History of Violence, A (2005)', 'Few Good Men, A (1992)', 'Kill Bill: Vol. 2 (2004)', 'Dirty Harry (1971)', 'Bourne Supremacy, The (2004)', 'Taken (2008)', 'Taxi Driver (1976)', 'Killer, The (Die xue shuang xiong) (1989)']\n",
            "Pengguna 343 memiliki 0 hits.\n",
            "Pengguna 182 memiliki 91 film relevan.\n",
            "Rekomendasi untuk pengguna 182: ['Bonnie and Clyde (1967)', 'Crash (2004)', 'Once Were Warriors (1994)', 'American History X (1998)', 'Capote (2005)', 'Departed, The (2006)', 'No Country for Old Men (2007)', 'Boyz N the Hood (1991)', 'Three Billboards Outside Ebbing, Missouri (2017)', 'Gran Torino (2008)']\n",
            "Pengguna 182 memiliki 1 hits.\n",
            "Pengguna 467 memiliki 1 film relevan.\n",
            "Rekomendasi untuk pengguna 467: ['Shakespeare in Love (1998)', 'Lost in Translation (2003)', 'Punch-Drunk Love (2002)', 'Hannah and Her Sisters (1986)', 'Eat Drink Man Woman (Yin shi nan nu) (1994)', 'When Harry Met Sally... (1989)', 'Leaving Las Vegas (1995)', \"Amelie (Fabuleux destin d'Amélie Poulain, Le) (2001)\", 'Much Ado About Nothing (1993)', 'Say Anything... (1989)']\n",
            "Pengguna 467 memiliki 0 hits.\n",
            "Pengguna 304 memiliki 35 film relevan.\n",
            "Rekomendasi untuk pengguna 304: ['Star Wars: Episode IV - A New Hope (1977)', 'Superman (1978)', 'Star Wars: Episode III - Revenge of the Sith (2005)', 'Star Trek II: The Wrath of Khan (1982)', 'Avengers: Age of Ultron (2015)', 'Avengers: Infinity War - Part I (2018)', 'War of the Worlds (2005)', 'War of the Worlds (2005)', 'War of the Worlds (2005)', 'War of the Worlds (2005)']\n",
            "Pengguna 304 memiliki 2 hits.\n",
            "Pengguna 231 memiliki 6 film relevan.\n",
            "Rekomendasi untuk pengguna 231: ['Batman Begins (2005)', 'Dark Knight Rises, The (2012)', 'Need for Speed (2014)', 'Fast Five (Fast and the Furious 5, The) (2011)', 'Watchmen (2009)', 'Grandmaster, The (Yi dai zong shi) (2013)', 'Eagle Eye (2008)', 'White House Down (2013)', 'Fast & Furious 6 (Fast and the Furious 6, The) (2013)', 'Good Day to Die Hard, A (2013)']\n",
            "Pengguna 231 memiliki 0 hits.\n",
            "Pengguna 94 memiliki 1 film relevan.\n",
            "Rekomendasi untuk pengguna 94: ['Saving Private Ryan (1998)', \"Schindler's List (1993)\", 'Inglourious Basterds (2009)', 'Apocalypse Now (1979)', 'Band of Brothers (2001)', 'Black Hawk Down (2001)', 'Patton (1970)', \"Kelly's Heroes (1970)\", 'Tora! Tora! Tora! (1970)', 'Ran (1985)']\n",
            "Pengguna 94 memiliki 0 hits.\n",
            "Pengguna 292 memiliki 31 film relevan.\n",
            "Rekomendasi untuk pengguna 292: ['Godfather: Part II, The (1974)', 'Goodfellas (1990)', 'Bonnie and Clyde (1967)', 'Serpico (1973)', \"Carlito's Way (1993)\", 'Road to Perdition (2002)', 'Capote (2005)', 'Drugstore Cowboy (1989)', 'Player, The (1992)', 'Dead Man Walking (1995)']\n",
            "Pengguna 292 memiliki 1 hits.\n",
            "Pengguna 496 memiliki 0 film relevan.\n",
            "Rekomendasi untuk pengguna 496: ['Goodfellas (1990)', 'Casino (1995)', 'Shawshank Redemption, The (1994)', 'Bonnie and Clyde (1967)', 'Crash (2004)', 'Dog Day Afternoon (1975)', 'American History X (1998)', 'Blow (2001)', 'Serpico (1973)', 'Green Mile, The (1999)']\n",
            "Pengguna 496 memiliki 0 hits.\n",
            "Pengguna 41 memiliki 17 film relevan.\n",
            "Rekomendasi untuk pengguna 41: ['Pet Sematary (1989)', 'Lord of Illusions (1995)', 'Deadtime Stories (1987)', 'Jaws (1975)', 'Christine (1983)', 'Sorority House Massacre II (1990)', 'Are You Scared? (2006)', 'Slumber Party Massacre II (1987)', 'Halloween (1978)', 'Phantasm IV: Oblivion (1998)']\n",
            "Pengguna 41 memiliki 0 hits.\n",
            "Pengguna 484 memiliki 37 film relevan.\n",
            "Rekomendasi untuk pengguna 484: ['Little Mermaid, The (1989)', 'Steamboat Willie (1928)', 'Winnie the Pooh and the Blustery Day (1968)', 'Fantasia (1940)', 'Bedknobs and Broomsticks (1971)', 'Sleeping Beauty (1959)', 'Shrek 2 (2004)', \"Cats Don't Dance (1997)\", 'Robin Hood (1973)', 'Mary Poppins (1964)']\n",
            "Pengguna 484 memiliki 2 hits.\n",
            "Pengguna 290 memiliki 47 film relevan.\n",
            "Rekomendasi untuk pengguna 290: ['Silence of the Lambs, The (1991)', 'Cabinet of Dr. Caligari, The (Cabinet des Dr. Caligari., Das) (1920)', 'Henry: Portrait of a Serial Killer (1986)', 'Cure (1997)', 'Saw (2003)', 'Suspiria (1977)', 'Godfather, The (1972)', 'Crash (2004)', 'Burnt Offerings (1976)', 'Sherlock - A Study in Pink (2010)']\n",
            "Pengguna 290 memiliki 2 hits.\n",
            "Pengguna 123 memiliki 8 film relevan.\n",
            "Rekomendasi untuk pengguna 123: ['Toy Story 3 (2010)', 'Shrek Forever After (a.k.a. Shrek: The Final Chapter) (2010)', 'Lion King, The (1994)', 'Cloudy with a Chance of Meatballs (2009)', 'Polar Express, The (2004)', 'Harry Potter and the Prisoner of Azkaban (2004)', 'Rise of the Guardians (2012)', \"Kiki's Delivery Service (Majo no takkyûbin) (1989)\", 'Beauty and the Beast (1991)', 'Shrek (2001)']\n",
            "Pengguna 123 memiliki 0 hits.\n",
            "Rata-rata Precision@10: 0.0380\n",
            "Rata-rata Recall@10: 0.0285\n"
          ]
        }
      ]
    },
    {
      "cell_type": "markdown",
      "source": [
        "**Dari data yang disajikan, terlihat bahwa kinerja sistem rekomendasi ini, yang diukur dengan metrik Precision@k dan Recall@k pada k=10, masih sangat rendah.**\n",
        "\n",
        "* Rata-rata Precision@10 sebesar 0.0380 menunjukkan bahwa, rata-rata, hanya sekitar 3.8% dari film yang direkomendasikan kepada pengguna adalah film yang relevan (film yang mereka sukai). Dengan kata lain, dari 10 film yang direkomendasikan, hanya sekitar 0.38 film (kurang dari satu) yang benar-benar relevan.\n",
        "\n",
        "* Rata-rata Recall@10 sebesar 0.0285 menunjukkan bahwa, rata-rata, sistem hanya berhasil menemukan sekitar 2.85% dari total film relevan yang disukai pengguna. Ini berarti sistem gagal menemukan sebagian besar film relevan yang ada dalam data pengguna.\n",
        "\n",
        "Meskipun model ini berhasil memberikan rekomendasi yang terlihat masuk akal secara tematis (misalnya, rekomendasi film-film aksi/sci-fi untuk Pengguna 582 dan 599, atau film kriminal untuk Pengguna 215), jumlah \"hits\" (film yang direkomendasikan dan juga relevan) sangat sedikit. Dari 32 pengguna yang dievaluasi, hanya 9 pengguna yang mendapatkan setidaknya satu film relevan di antara 10 rekomendasi teratas mereka."
      ],
      "metadata": {
        "id": "VeOvnG4yDmQR"
      }
    },
    {
      "cell_type": "markdown",
      "source": [
        "**Analisis Lebih Lanjut**\n",
        "\n",
        "Hasil ini menunjukkan bahwa ada beberapa area yang perlu diperbaiki:\n",
        "\n",
        "* Keterbatasan Data: Jumlah pengguna dan film yang digunakan untuk evaluasi ini mungkin tidak cukup besar untuk memberikan gambaran yang akurat. Selain itu, sebaran data rating mungkin tidak merata, menyebabkan beberapa pengguna memiliki sedikit atau bahkan nol film relevan (seperti Pengguna 207 dan 496).\n",
        "\n",
        "* Masalah Cold-Start: Sebagian besar pengguna dalam evaluasi ini (seperti Pengguna 428, 215, 461, 197, dst.) memiliki hits nol. Ini bisa menjadi indikasi masalah cold-start, di mana model tidak memiliki cukup data riwayat rating untuk pengguna tersebut, sehingga rekomendasinya tidak akurat.\n",
        "\n",
        "* Bobot Model Hibrida: Bobot yang diberikan pada model Collaborative dan Content-based (jika ini adalah model hibrida) mungkin tidak optimal. Model mungkin terlalu condong ke salah satu sisi, sehingga gagal memanfaatkan kekuatan gabungan dari kedua pendekatan.\n",
        "\n",
        "* Definisi \"Relevan\": Mungkin ada masalah dalam definisi \"film relevan\". Jika hanya film dengan rating 4 atau 5 yang dianggap relevan, model mungkin kesulitan jika sebagian besar rating pengguna berada di angka 3.\n",
        "\n",
        "Secara keseluruhan, meskipun proyek ini berhasil membangun sebuah alur kerja rekomendasi, hasil evaluasi menunjukkan bahwa model ini belum siap untuk digunakan di lingkungan produksi. Diperlukan iterasi lebih lanjut pada model, data, dan strategi evaluasi untuk meningkatkan performa secara signifikan."
      ],
      "metadata": {
        "id": "u2csnbN9D2BX"
      }
    },
    {
      "cell_type": "markdown",
      "source": [
        "# **Implementasi Sistem Rekomendasi**"
      ],
      "metadata": {
        "id": "wGXb4TASCD5K"
      }
    },
    {
      "cell_type": "markdown",
      "source": [
        "Proyek ini telah berhasil mengintegrasikan dua pendekatan rekomendasi yang berbeda untuk mengatasi keterbatasan masing-masing model.\n",
        "\n",
        "**Content-based Filtering**: Model ini berfungsi dengan baik untuk mengatasi masalah cold-start—memberikan rekomendasi yang relevan kepada pengguna baru atau untuk film yang baru ditambahkan. Model ini menggunakan metadata film seperti genre dan tag untuk menemukan kemiripan. Kelemahan utamanya adalah ia cenderung merekomendasikan film yang terlalu mirip dengan apa yang sudah disukai pengguna, membatasi penemuan konten baru.\n",
        "\n",
        "**Collaborative Filtering**: Menggunakan data rating dari pengguna, model ini mampu menemukan pola-pola tersembunyi dan mengidentifikasi film yang disukai oleh komunitas pengguna dengan selera serupa. Model ini sangat efektif dalam memberikan rekomendasi yang tidak terduga, atau serendipity. Namun, model ini tidak dapat berfungsi tanpa riwayat interaksi pengguna yang memadai, menjadikannya rentan terhadap masalah cold-start.\n",
        "\n",
        "Dengan menggabungkan kedua model ini menjadi sistem hibrida, kita mendapatkan yang terbaik dari kedua dunia. Kami menggunakan model Collaborative Filtering untuk memprediksi film-film teratas yang mungkin disukai pengguna, lalu menggunakan model Content-based untuk memprioritaskan film-film tersebut berdasarkan kemiripan konten. Proses re-ranking ini memastikan bahwa rekomendasi tidak hanya akurat (berkat Collaborative) tetapi juga relevan dan personal (berkat Content-based)."
      ],
      "metadata": {
        "id": "cL0qOQLrCKeI"
      }
    },
    {
      "cell_type": "markdown",
      "source": [
        "## Strategi Bisnis"
      ],
      "metadata": {
        "id": "Lkd5L2iaCXW-"
      }
    },
    {
      "cell_type": "markdown",
      "source": [
        "Sistem hibrida ini memiliki potensi besar untuk diintegrasikan ke dalam operasi bisnis. Berikut adalah beberapa strategi utama:\n",
        "\n",
        "* Personalisasi Halaman Utama: Rekomendasi paling relevan akan ditampilkan di halaman utama, memastikan pengguna langsung disambut dengan konten yang mereka sukai. Ini dapat meningkatkan rata-rata sesi pengguna dan menurunkan tingkat bounce rate.\n",
        "\n",
        "* Fitur \"Lebih seperti ini\": Di halaman detail film, pengguna akan melihat daftar film yang mirip secara tematis. Fitur ini dapat meminimalkan waktu yang dihabiskan pengguna untuk mencari konten dan mendorong mereka untuk terus menonton.\n",
        "\n",
        "* Kampanye Pemasaran yang Ditargetkan: Model dapat digunakan untuk mengidentifikasi film-film yang mungkin disukai oleh pengguna yang tidak aktif. Rekomendasi yang dipersonalisasi dapat dikirim melalui email atau notifikasi untuk mendorong mereka kembali ke platform.\n",
        "\n",
        "* Onboarding Pengguna Baru: Saat pengguna pertama kali mendaftar, mereka dapat diminta untuk memberi rating pada beberapa film. Sistem dapat menggunakan model Content-based untuk memberikan rekomendasi instan, menciptakan pengalaman yang menarik sejak awal."
      ],
      "metadata": {
        "id": "bBOqXlV3DMkE"
      }
    },
    {
      "cell_type": "markdown",
      "source": [
        "## Kesimpulan"
      ],
      "metadata": {
        "id": "IsxdK5eaDU2M"
      }
    },
    {
      "cell_type": "markdown",
      "source": [
        "Secara keseluruhan, meskipun proyek ini berhasil membangun alur kerja rekomendasi, hasil evaluasi menunjukkan adanya kebutuhan mendesak untuk mengoptimalkan model, menyesuaikan bobot hibrida, dan mempertimbangkan strategi yang lebih efektif untuk mengatasi pengguna dengan riwayat rating yang minim."
      ],
      "metadata": {
        "id": "DrkBCBoMDXD7"
      }
    }
  ]
}